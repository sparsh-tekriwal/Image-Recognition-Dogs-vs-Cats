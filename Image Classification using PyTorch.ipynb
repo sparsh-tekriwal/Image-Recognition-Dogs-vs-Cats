{
  "nbformat": 4,
  "nbformat_minor": 0,
  "metadata": {
    "colab": {
      "name": "Image Classification using PyTorch.ipynb",
      "provenance": [],
      "collapsed_sections": [],
      "mount_file_id": "1JSgylreu6hdeF99Xg_umgxXgaMZrmdg_",
      "authorship_tag": "ABX9TyO5eb+Cxoo/0SrpATq+20aJ",
      "include_colab_link": true
    },
    "kernelspec": {
      "name": "python3",
      "display_name": "Python 3"
    }
  },
  "cells": [
    {
      "cell_type": "markdown",
      "metadata": {
        "id": "view-in-github",
        "colab_type": "text"
      },
      "source": [
        "<a href=\"https://colab.research.google.com/github/sparsh-tekriwal/Image-Recognition-Dogs-vs-Cats/blob/master/Image%20Classification%20using%20PyTorch.ipynb\" target=\"_parent\"><img src=\"https://colab.research.google.com/assets/colab-badge.svg\" alt=\"Open In Colab\"/></a>"
      ]
    },
    {
      "cell_type": "code",
      "metadata": {
        "id": "AHwQstsE_NfM",
        "colab_type": "code",
        "colab": {}
      },
      "source": [
        "# !wget https://download.microsoft.com/download/3/E/1/3E1C3F21-ECDB-4869-8368-6DEBA77B919F/kagglecatsanddogs_3367a.zip -P 'drive/My Drive/PetImages'"
      ],
      "execution_count": 2,
      "outputs": []
    },
    {
      "cell_type": "code",
      "metadata": {
        "id": "oSjEZlG4Aaah",
        "colab_type": "code",
        "colab": {}
      },
      "source": [
        "# !unzip 'drive/My Drive/PetImages/kagglecatsanddogs_3367a.zip' -d 'drive/My Drive/'"
      ],
      "execution_count": 3,
      "outputs": []
    },
    {
      "cell_type": "code",
      "metadata": {
        "id": "E2TdnR0KG_gK",
        "colab_type": "code",
        "colab": {}
      },
      "source": [
        "# !cp /content/training_data.npy 'drive/My Drive/PetImages'"
      ],
      "execution_count": 12,
      "outputs": []
    },
    {
      "cell_type": "code",
      "metadata": {
        "id": "z1tJbXl6MaDD",
        "colab_type": "code",
        "colab": {}
      },
      "source": [
        "import os\n",
        "import cv2\n",
        "import numpy as np\n",
        "from tqdm import tqdm"
      ],
      "execution_count": 4,
      "outputs": []
    },
    {
      "cell_type": "code",
      "metadata": {
        "id": "bDlW9jhWta80",
        "colab_type": "code",
        "colab": {}
      },
      "source": [
        "REBUILD_DATA = True"
      ],
      "execution_count": 5,
      "outputs": []
    },
    {
      "cell_type": "code",
      "metadata": {
        "id": "CwkPu3HkuWE7",
        "colab_type": "code",
        "colab": {}
      },
      "source": [
        "class DogsVSCats():\n",
        "  IMG_SIZE = 50\n",
        "  CATS = \"PetImages/Cat\"\n",
        "  DOGS = \"PetImages/Dog\"\n",
        "  LABELS = {CATS: 0, DOGS: 1}\n",
        "  training_data = []\n",
        "  catcount = 0\n",
        "  dogcount = 0\n",
        "\n",
        "  def make_training_data(self):\n",
        "    # Iterating through Cats and Dogs directories\n",
        "    for label in self.LABELS:\n",
        "      print(label)\n",
        "      # Iterating through contents of each directory along with a progress bar\n",
        "      for f in tqdm(os.listdir(label)):\n",
        "        try:\n",
        "          # joining file name to path\n",
        "          path = os.path.join(label, f)\n",
        "          #reading image file and converting to grayscale as my hypothesis is color doesn't matter while differenciating between cats and dogs. \n",
        "          # And we gotta simplify for efficient NN computation\n",
        "          img = cv2.imread(path, cv2.IMREAD_GRAYSCALE)\n",
        "          # I have defined this parmater for the class\n",
        "          img = cv2.resize(img, (self.IMG_SIZE, self.IMG_SIZE))\n",
        "          # converting labels to a one hot format\n",
        "          self.training_data.append([np.array(img), np.eye(2)[self.LABELS[label]]])\n",
        "\n",
        "          # Counting number of data points in each class\n",
        "          if label == self.CATS:\n",
        "            self.catcount +=1\n",
        "          elif label == self.DOGS:\n",
        "            self.dogcount +=1\n",
        "        \n",
        "        except Exception as e:\n",
        "          print(\"We have an issue with this dog/cat image: \" + str(e))\n",
        "    # Shuffling the ingested data so that they are evenly distributed\n",
        "    # No reassignment requiremnt for this numpy function\n",
        "    np.random.shuffle(self.training_data)\n",
        "    # Saving data so that I don't need to import it do this computation again\n",
        "    np.save(\"training_data.npy\", self.training_data)\n",
        "    print(\"Cats: \", self.catcount)\n",
        "    print(\"Dogs: \", self.dogcount)\n",
        "\n",
        "if REBUILD_DATA:\n",
        "  dogvcats = DogsVSCats()\n",
        "  dogvcats.make_training_data()"
      ],
      "execution_count": null,
      "outputs": []
    },
    {
      "cell_type": "code",
      "metadata": {
        "id": "q-3B1y8lxbZR",
        "colab_type": "code",
        "colab": {}
      },
      "source": [
        "training_data = np.load(\"training_data.npy\", allow_pickle = True)\n"
      ],
      "execution_count": 10,
      "outputs": []
    },
    {
      "cell_type": "code",
      "metadata": {
        "id": "hl7IzrggxpUI",
        "colab_type": "code",
        "colab": {
          "base_uri": "https://localhost:8080/",
          "height": 697
        },
        "outputId": "070c615a-c235-4515-aa3d-3d450cb96744"
      },
      "source": [
        "training_data[:5]"
      ],
      "execution_count": 15,
      "outputs": [
        {
          "output_type": "execute_result",
          "data": {
            "text/plain": [
              "array([[array([[150, 169, 160, ..., 145, 142, 149],\n",
              "       [165, 139, 158, ..., 139, 135, 150],\n",
              "       [158, 141, 137, ..., 135, 156, 152],\n",
              "       ...,\n",
              "       [146, 193, 201, ..., 199, 109,  99],\n",
              "       [158, 168, 192, ..., 166, 168, 182],\n",
              "       [145, 143, 134, ..., 166, 221, 101]], dtype=uint8),\n",
              "        array([0., 1.])],\n",
              "       [array([[21, 21, 22, ..., 41, 38, 36],\n",
              "       [21, 23, 23, ..., 45, 43, 40],\n",
              "       [22, 24, 25, ..., 51, 48, 44],\n",
              "       ...,\n",
              "       [62, 47, 61, ..., 22, 20, 19],\n",
              "       [61, 67, 57, ..., 24, 25, 18],\n",
              "       [74, 62, 54, ..., 32, 28, 21]], dtype=uint8),\n",
              "        array([1., 0.])],\n",
              "       [array([[194, 196, 198, ...,  76,  75,  73],\n",
              "       [200, 200, 200, ...,  74,  74,  76],\n",
              "       [198, 198, 198, ...,  73,  74,  98],\n",
              "       ...,\n",
              "       [131, 128, 140, ..., 153, 156, 153],\n",
              "       [142, 137, 136, ..., 154, 149, 148],\n",
              "       [138, 134, 138, ..., 150, 153, 158]], dtype=uint8),\n",
              "        array([0., 1.])],\n",
              "       [array([[127, 128, 129, ..., 177, 169, 164],\n",
              "       [127, 129, 131, ..., 193, 170, 172],\n",
              "       [130, 131, 132, ...,  93,  87,  87],\n",
              "       ...,\n",
              "       [229, 230, 231, ..., 245, 246, 246],\n",
              "       [231, 235, 230, ..., 243, 241, 246],\n",
              "       [234, 232, 232, ..., 242, 246, 241]], dtype=uint8),\n",
              "        array([0., 1.])],\n",
              "       [array([[119, 122, 119, ..., 124, 126, 121],\n",
              "       [ 95,  87,  86, ..., 126, 124, 120],\n",
              "       [ 90,  81,  70, ..., 130, 128, 125],\n",
              "       ...,\n",
              "       [ 38,  36,  45, ..., 142, 120, 149],\n",
              "       [ 40,  44,  42, ..., 161,  84,  93],\n",
              "       [ 39,  44,  58, ..., 145, 164,  75]], dtype=uint8),\n",
              "        array([1., 0.])]], dtype=object)"
            ]
          },
          "metadata": {
            "tags": []
          },
          "execution_count": 15
        }
      ]
    },
    {
      "cell_type": "code",
      "metadata": {
        "id": "UmxOEmygGtLG",
        "colab_type": "code",
        "colab": {}
      },
      "source": [
        ""
      ],
      "execution_count": null,
      "outputs": []
    }
  ]
}