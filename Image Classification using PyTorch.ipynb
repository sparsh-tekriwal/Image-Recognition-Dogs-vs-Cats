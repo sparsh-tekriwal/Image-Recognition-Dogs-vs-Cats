{
  "nbformat": 4,
  "nbformat_minor": 0,
  "metadata": {
    "colab": {
      "name": "Untitled1.ipynb",
      "provenance": [],
      "authorship_tag": "ABX9TyMwOPijUkieVVnHK9Btsbt9",
      "include_colab_link": true
    },
    "kernelspec": {
      "name": "python3",
      "display_name": "Python 3"
    }
  },
  "cells": [
    {
      "cell_type": "markdown",
      "metadata": {
        "id": "view-in-github",
        "colab_type": "text"
      },
      "source": [
        "<a href=\"https://colab.research.google.com/github/sparsh-tekriwal/Image-Recognition-Dogs-vs-Cats/blob/master/Image%20Classification%20using%20PyTorch.ipynb\" target=\"_parent\"><img src=\"https://colab.research.google.com/assets/colab-badge.svg\" alt=\"Open In Colab\"/></a>"
      ]
    },
    {
      "cell_type": "code",
      "metadata": {
        "id": "z1tJbXl6MaDD",
        "colab_type": "code",
        "colab": {}
      },
      "source": [
        "import os\n",
        "import cv2\n",
        "import numpy as np\n",
        "from tqdm import tqdm"
      ],
      "execution_count": 3,
      "outputs": []
    },
    {
      "cell_type": "code",
      "metadata": {
        "id": "bDlW9jhWta80",
        "colab_type": "code",
        "colab": {}
      },
      "source": [
        "REBUILD_DATA = True"
      ],
      "execution_count": 2,
      "outputs": []
    },
    {
      "cell_type": "code",
      "metadata": {
        "id": "CwkPu3HkuWE7",
        "colab_type": "code",
        "colab": {}
      },
      "source": [
        "class DogsVSCats():\n",
        "  IMG_SIZE = 50\n",
        "  CATS = \"PetImages/Cat\"\n",
        "  DOGS = \"PetImages/Dog\"\n",
        "  LABELS = {CATS: 0, DOGS: 1}\n",
        "  training_data = []\n",
        "  catcount = 0\n",
        "  dogcount = 0\n",
        "\n",
        "  def make_training_data(self):\n",
        "    # Iterating through Cats and Dogs directories\n",
        "    for label in self.LABELS:\n",
        "      print(label)\n",
        "      # Iterating through contents of each directory along with a progress bar\n",
        "      for f in tqdm(os.listdir(label))\n",
        "        try:\n",
        "\n",
        "          # joining file name to path\n",
        "          path = os.path.join(label, f)\n",
        "          #reading image file and converting to grayscale as my hypothesis is color doesn't matter while differenciating between cats and dogs. And we gotta simplify for efficient NN computation\n",
        "          img = cv2.imread(path, cv2.IMREAD_GRAYSCALE)\n",
        "          # I have defined this parmater for the class\n",
        "          img = cv2.resize(img, (self.IMG_SIZE, self.IMG_SIZE))\n",
        "          # converting labels to a one hot format\n",
        "          self.training_data.append([np.array(img), np.eye(2)[self.LABELS[label]]])\n",
        "\n",
        "          # Counting number of data points in each class\n",
        "          if label == self.CATS:\n",
        "            self.catcount +=1\n",
        "          elif label == self.DOGS:\n",
        "            self.dogcount +=1\n",
        "        \n",
        "        except Exception as e:\n",
        "          print(\"We have an issue with this dog/cat image: \" + e)\n",
        "    # Shuffling the ingested data so that they are evenly distributed\n",
        "    # No reassignment requiremnt for this numpy function\n",
        "    np.random.shuffle(self.training_data)\n",
        "    # Saving data so that I don't need to import it do this computation again\n",
        "    np.save(\"training_data.npy\", self.training_data)\n",
        "    print(\"Cats: \", self.catcount)\n",
        "    print(\"Dogs: \", self.dogcount)\n",
        "\n",
        "  if REBUILD_DATA:\n",
        "    dogvcats = DogsVSCats()\n",
        "    dogvcats.make_training_data()\n",
        "    \n",
        "\n",
        "\n",
        "\n"
      ],
      "execution_count": null,
      "outputs": []
    },
    {
      "cell_type": "code",
      "metadata": {
        "id": "q-3B1y8lxbZR",
        "colab_type": "code",
        "colab": {
          "base_uri": "https://localhost:8080/",
          "height": 51
        },
        "outputId": "39ec5e99-469b-474c-c142-eeb6e0a90ebb"
      },
      "source": [
        "training_data = np.load(\"training_data.npy\")\n"
      ],
      "execution_count": 4,
      "outputs": [
        {
          "output_type": "stream",
          "text": [
            "x\n",
            "y\n"
          ],
          "name": "stdout"
        }
      ]
    },
    {
      "cell_type": "code",
      "metadata": {
        "id": "hl7IzrggxpUI",
        "colab_type": "code",
        "colab": {}
      },
      "source": [
        ""
      ],
      "execution_count": null,
      "outputs": []
    }
  ]
}