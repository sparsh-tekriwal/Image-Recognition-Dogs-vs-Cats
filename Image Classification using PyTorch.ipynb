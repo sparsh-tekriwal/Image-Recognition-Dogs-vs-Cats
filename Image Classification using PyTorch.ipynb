{
  "nbformat": 4,
  "nbformat_minor": 0,
  "metadata": {
    "colab": {
      "name": "Image Classification using PyTorch.ipynb",
      "provenance": [],
      "collapsed_sections": [],
      "mount_file_id": "1JSgylreu6hdeF99Xg_umgxXgaMZrmdg_",
      "authorship_tag": "ABX9TyNcfn4dpMBU6tu4KU/exZkC",
      "include_colab_link": true
    },
    "kernelspec": {
      "name": "python3",
      "display_name": "Python 3"
    }
  },
  "cells": [
    {
      "cell_type": "markdown",
      "metadata": {
        "id": "view-in-github",
        "colab_type": "text"
      },
      "source": [
        "<a href=\"https://colab.research.google.com/github/sparsh-tekriwal/Image-Recognition-Dogs-vs-Cats/blob/master/Image%20Classification%20using%20PyTorch.ipynb\" target=\"_parent\"><img src=\"https://colab.research.google.com/assets/colab-badge.svg\" alt=\"Open In Colab\"/></a>"
      ]
    },
    {
      "cell_type": "markdown",
      "metadata": {
        "id": "FXIel78pMSi3",
        "colab_type": "text"
      },
      "source": [
        "## Downloading and processing pet images "
      ]
    },
    {
      "cell_type": "code",
      "metadata": {
        "id": "AHwQstsE_NfM",
        "colab_type": "code",
        "colab": {}
      },
      "source": [
        "# !wget https://download.microsoft.com/download/3/E/1/3E1C3F21-ECDB-4869-8368-6DEBA77B919F/kagglecatsanddogs_3367a.zip -P 'drive/My Drive/PetImages'"
      ],
      "execution_count": 2,
      "outputs": []
    },
    {
      "cell_type": "code",
      "metadata": {
        "id": "oSjEZlG4Aaah",
        "colab_type": "code",
        "colab": {}
      },
      "source": [
        "# !unzip 'drive/My Drive/PetImages/kagglecatsanddogs_3367a.zip' -d 'drive/My Drive/'"
      ],
      "execution_count": 3,
      "outputs": []
    },
    {
      "cell_type": "code",
      "metadata": {
        "id": "E2TdnR0KG_gK",
        "colab_type": "code",
        "colab": {}
      },
      "source": [
        "# !cp /content/training_data.npy 'drive/My Drive/PetImages'"
      ],
      "execution_count": 12,
      "outputs": []
    },
    {
      "cell_type": "code",
      "metadata": {
        "id": "z1tJbXl6MaDD",
        "colab_type": "code",
        "colab": {}
      },
      "source": [
        "import os\n",
        "import cv2\n",
        "import numpy as np\n",
        "from tqdm import tqdm"
      ],
      "execution_count": 4,
      "outputs": []
    },
    {
      "cell_type": "code",
      "metadata": {
        "id": "bDlW9jhWta80",
        "colab_type": "code",
        "colab": {}
      },
      "source": [
        "REBUILD_DATA = True"
      ],
      "execution_count": 5,
      "outputs": []
    },
    {
      "cell_type": "code",
      "metadata": {
        "id": "CwkPu3HkuWE7",
        "colab_type": "code",
        "colab": {}
      },
      "source": [
        "class DogsVSCats():\n",
        "  IMG_SIZE = 50\n",
        "  CATS = \"PetImages/Cat\"\n",
        "  DOGS = \"PetImages/Dog\"\n",
        "  LABELS = {CATS: 0, DOGS: 1}\n",
        "  training_data = []\n",
        "  catcount = 0\n",
        "  dogcount = 0\n",
        "\n",
        "  def make_training_data(self):\n",
        "    # Iterating through Cats and Dogs directories\n",
        "    for label in self.LABELS:\n",
        "      print(label)\n",
        "      # Iterating through contents of each directory along with a progress bar\n",
        "      for f in tqdm(os.listdir(label)):\n",
        "        try:\n",
        "          # joining file name to path\n",
        "          path = os.path.join(label, f)\n",
        "          #reading image file and converting to grayscale as my hypothesis is color doesn't matter while differenciating between cats and dogs. \n",
        "          # And we gotta simplify for efficient NN computation\n",
        "          img = cv2.imread(path, cv2.IMREAD_GRAYSCALE)\n",
        "          # I have defined this parmater for the class\n",
        "          img = cv2.resize(img, (self.IMG_SIZE, self.IMG_SIZE))\n",
        "          # converting labels to a one hot format\n",
        "          self.training_data.append([np.array(img), np.eye(2)[self.LABELS[label]]])\n",
        "\n",
        "          # Counting number of data points in each class\n",
        "          if label == self.CATS:\n",
        "            self.catcount +=1\n",
        "          elif label == self.DOGS:\n",
        "            self.dogcount +=1\n",
        "        \n",
        "        except Exception as e:\n",
        "          print(\"We have an issue with this dog/cat image: \" + str(e))\n",
        "    # Shuffling the ingested data so that they are evenly distributed\n",
        "    # No reassignment requiremnt for this numpy function\n",
        "    np.random.shuffle(self.training_data)\n",
        "    # Saving data so that I don't need to import it do this computation again\n",
        "    np.save(\"training_data.npy\", self.training_data)\n",
        "    print(\"Cats: \", self.catcount)\n",
        "    print(\"Dogs: \", self.dogcount)\n",
        "\n",
        "if REBUILD_DATA:\n",
        "  dogvcats = DogsVSCats()\n",
        "  dogvcats.make_training_data()"
      ],
      "execution_count": null,
      "outputs": []
    },
    {
      "cell_type": "code",
      "metadata": {
        "id": "q-3B1y8lxbZR",
        "colab_type": "code",
        "colab": {}
      },
      "source": [
        "training_data = np.load(\"training_data.npy\", allow_pickle = True)"
      ],
      "execution_count": 17,
      "outputs": []
    },
    {
      "cell_type": "code",
      "metadata": {
        "id": "hl7IzrggxpUI",
        "colab_type": "code",
        "colab": {
          "base_uri": "https://localhost:8080/",
          "height": 34
        },
        "outputId": "6c216e22-da60-4e9c-d2af-7c7d6ae3b2be"
      },
      "source": [
        "print(\"The number of images in my dataset is: \"+ str(len(training_data)))"
      ],
      "execution_count": 26,
      "outputs": [
        {
          "output_type": "stream",
          "text": [
            "The number of images in my dataset is: 24946\n"
          ],
          "name": "stdout"
        }
      ]
    },
    {
      "cell_type": "code",
      "metadata": {
        "id": "UmxOEmygGtLG",
        "colab_type": "code",
        "colab": {
          "base_uri": "https://localhost:8080/",
          "height": 267
        },
        "outputId": "23f7924b-bbb8-443e-d957-bc600cc88daa"
      },
      "source": [
        "import matplotlib.pyplot as plt\n",
        "plt.imshow(training_data[1][0], cmap=\"gray\")\n",
        "plt.show()"
      ],
      "execution_count": 22,
      "outputs": [
        {
          "output_type": "display_data",
          "data": {
            "image/png": "[encoded data removed]",
            "text/plain": [
              "<Figure size 432x288 with 1 Axes>"
            ]
          },
          "metadata": {
            "tags": [],
            "needs_background": "light"
          }
        }
      ]
    },
    {
      "cell_type": "markdown",
      "metadata": {
        "id": "JNMYLf_jMs5Q",
        "colab_type": "text"
      },
      "source": [
        "# Training a Convolutional Neural Network "
      ]
    },
    {
      "cell_type": "code",
      "metadata": {
        "id": "USif4y3JM5Sy",
        "colab_type": "code",
        "colab": {}
      },
      "source": [
        "import torch\n",
        "import torch.nn as nn\n",
        "import torch.nn.functional as F"
      ],
      "execution_count": 28,
      "outputs": []
    },
    {
      "cell_type": "code",
      "metadata": {
        "id": "WWKjaP4eNF89",
        "colab_type": "code",
        "colab": {}
      },
      "source": [
        "class Net(nn.Module):\n",
        "  def __init__(self):\n",
        "    super().__init__() # run the init of parent class (nn.Module)\n",
        "    self.conv1 = nn.Conv2d(1, 32, 5) # input is 1, output is 32 conv features, and 5 x 5 is the kernel or window size\n",
        "    self.conv2 = nn.Conv2d(32, 64, 5)\n",
        "    self.conv3 = nn.Conv2d(64, 128, 5)\n",
        "\n",
        "    x = torch.randn(50,50).view(-1,1,50,50)\n",
        "    self._to_linear = None\n",
        "    self.convs(x)\n",
        "    \n",
        "    self.fc1 = nn.Linear(self._to_linear, 512)\n",
        "    self.fc2 = nn.Linear(512 , 2)\n",
        "\n",
        "  def convs(self, x):\n",
        "    x = F.max_pool2d(F.relu(self.conv1(x)), (2,2))\n",
        "    x = F.max_pool2d(F.relu(self.conv2(x)), (2,2))\n",
        "    x = F.max_pool2d(F.relu(self.conv3(x)), (2,2))\n",
        "\n",
        "    if self._to_linear is None:\n",
        "      self._to_linear = x[0].shape[0] * x[0].shape[1] * x[0].shape[2]\n",
        "    return x\n",
        "    b\n",
        "  def forward(self, x):\n",
        "    x = self.convs(x)\n",
        "    x = x.view(-1, self._to_linear)\n",
        "    x = F.relu(self.fc1(x))\n",
        "    x = slef.fc2(x)\n",
        "    return F.softmax(x, dim=1)\n",
        "\n",
        "net = Net()"
      ],
      "execution_count": 39,
      "outputs": []
    },
    {
      "cell_type": "code",
      "metadata": {
        "id": "EyMiO1KIYQxu",
        "colab_type": "code",
        "colab": {
          "base_uri": "https://localhost:8080/",
          "height": 34
        },
        "outputId": "bf90bf08-a76a-46d4-aec8-9547e54c66f1"
      },
      "source": [
        "import torch.optim as optim\n",
        "\n",
        "optimizer = optim.Adam(net.parameters(), lr = 0.001)\n",
        "loss_function = nn.MSELoss()\n",
        "\n",
        "X = torch.Tensor([i[0] for i in training_data]).view(-1, 50, 50)\n",
        "X = X/255.0\n",
        "y = torch.Tensor([i[1] for i in training_data])\n",
        "\n",
        "VAL_PCT = 0.1\n",
        "val_size = int(len(X) * VAL_PCT)\n",
        "print(val_size)"
      ],
      "execution_count": 41,
      "outputs": [
        {
          "output_type": "stream",
          "text": [
            "2494\n"
          ],
          "name": "stdout"
        }
      ]
    },
    {
      "cell_type": "code",
      "metadata": {
        "id": "3zM0HnPpgFrE",
        "colab_type": "code",
        "colab": {}
      },
      "source": [
        ""
      ],
      "execution_count": null,
      "outputs": []
    }
  ]
}